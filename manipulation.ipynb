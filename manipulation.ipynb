{
 "cells": [
  {
   "cell_type": "markdown",
   "metadata": {},
   "source": [
    "# Netflix Data Analysis\n",
    "Authors: Alex Arce, Lunden Mandigo, Tyrone Pettygrue "
   ]
  },
  {
   "cell_type": "code",
   "execution_count": 8,
   "metadata": {},
   "outputs": [],
   "source": [
    "import pandas as pd\n",
    "import numpy as np\n",
    "import matplotlib.pyplot as plt\n",
    "import seaborn as sns\n"
   ]
  },
  {
   "cell_type": "code",
   "execution_count": 11,
   "metadata": {},
   "outputs": [],
   "source": [
    "imdb_movies = pd.read_csv('merged_movie_imdb.csv')\n"
   ]
  },
  {
   "cell_type": "markdown",
   "metadata": {},
   "source": [
    "## Data Collection and Merging\n",
    "Information on where we got the data and steps for merging, trimming, and uploading"
   ]
  },
  {
   "cell_type": "markdown",
   "metadata": {},
   "source": [
    "### Data Description"
   ]
  },
  {
   "cell_type": "markdown",
   "metadata": {},
   "source": [
    "**IMDB Movies**"
   ]
  },
  {
   "cell_type": "code",
   "execution_count": 12,
   "metadata": {},
   "outputs": [
    {
     "name": "stdout",
     "output_type": "stream",
     "text": [
      "<class 'pandas.core.frame.DataFrame'>\n",
      "RangeIndex: 188554 entries, 0 to 188553\n",
      "Data columns (total 12 columns):\n",
      " #   Column          Non-Null Count   Dtype  \n",
      "---  ------          --------------   -----  \n",
      " 0   Unnamed: 0      188554 non-null  int64  \n",
      " 1   tconst          188554 non-null  object \n",
      " 2   titleType       188554 non-null  object \n",
      " 3   primaryTitle    188553 non-null  object \n",
      " 4   originalTitle   188553 non-null  object \n",
      " 5   isAdult         188554 non-null  int64  \n",
      " 6   startYear       188554 non-null  int64  \n",
      " 7   endYear         188554 non-null  object \n",
      " 8   runtimeMinutes  188554 non-null  object \n",
      " 9   genres          188554 non-null  object \n",
      " 10  averageRating   188554 non-null  float64\n",
      " 11  numVotes        188554 non-null  int64  \n",
      "dtypes: float64(1), int64(4), object(7)\n",
      "memory usage: 17.3+ MB\n",
      "None\n"
     ]
    }
   ],
   "source": [
    "print(imdb_movies.info())"
   ]
  }
 ],
 "metadata": {
  "kernelspec": {
   "display_name": "Python 3",
   "language": "python",
   "name": "python3"
  },
  "language_info": {
   "codemirror_mode": {
    "name": "ipython",
    "version": 3
   },
   "file_extension": ".py",
   "mimetype": "text/x-python",
   "name": "python",
   "nbconvert_exporter": "python",
   "pygments_lexer": "ipython3",
   "version": "3.9.6"
  }
 },
 "nbformat": 4,
 "nbformat_minor": 2
}
